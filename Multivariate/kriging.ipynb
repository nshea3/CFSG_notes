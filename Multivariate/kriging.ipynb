{
 "cells": [
  {
   "cell_type": "code",
   "execution_count": 1,
   "metadata": {},
   "outputs": [],
   "source": [
    "from sympy import *\n",
    "import numpy as np\n",
    "\n",
    "init_printing()"
   ]
  },
  {
   "cell_type": "code",
   "execution_count": 2,
   "metadata": {},
   "outputs": [],
   "source": [
    "A = MatrixSymbol('A', 3, 3)\n",
    "y = MatrixSymbol('y', 3, 1)\n",
    "\n",
    "x = (A.T*A).I * A * y"
   ]
  },
  {
   "cell_type": "code",
   "execution_count": null,
   "metadata": {},
   "outputs": [],
   "source": []
  },
  {
   "cell_type": "code",
   "execution_count": 3,
   "metadata": {},
   "outputs": [
    {
     "data": {
      "image/png": "[encoded data removed]",
      "text/latex": [
       "$\\displaystyle \\left[\\begin{array}{ccc}y_{0, 0}^{2} & y_{0, 0} y_{1, 0} & y_{0, 0} y_{2, 0}\\\\y_{0, 0} y_{1, 0} & y_{1, 0}^{2} & y_{1, 0} y_{2, 0}\\\\y_{0, 0} y_{2, 0} & y_{1, 0} y_{2, 0} & y_{2, 0}^{2}\\end{array}\\right]$"
      ],
      "text/plain": [
       "⎡    2                    ⎤\n",
       "⎢ y₀₀     y₀₀⋅y₁₀  y₀₀⋅y₂₀⎥\n",
       "⎢                         ⎥\n",
       "⎢             2           ⎥\n",
       "⎢y₀₀⋅y₁₀   y₁₀     y₁₀⋅y₂₀⎥\n",
       "⎢                         ⎥\n",
       "⎢                      2  ⎥\n",
       "⎣y₀₀⋅y₂₀  y₁₀⋅y₂₀   y₂₀   ⎦"
      ]
     },
     "execution_count": 3,
     "metadata": {},
     "output_type": "execute_result"
    }
   ],
   "source": [
    "Matrix(y)*Matrix(y.T)"
   ]
  },
  {
   "cell_type": "code",
   "execution_count": 20,
   "metadata": {},
   "outputs": [],
   "source": [
    "from sympy.parsing.latex import parse_latex\n",
    "\n",
    "exp_ = parse_latex('C ( h ) = C ( 0 ) -  \\gamma  ( h )')"
   ]
  },
  {
   "cell_type": "code",
   "execution_count": 21,
   "metadata": {},
   "outputs": [
    {
     "data": {
      "image/png": "[encoded data removed]",
      "text/latex": [
       "$\\displaystyle C{\\left(h \\right)} = C{\\left(0 \\right)} - \\gamma{\\left(h \\right)}$"
      ],
      "text/plain": [
       "C(h) = C(0) - γ(h)"
      ]
     },
     "execution_count": 21,
     "metadata": {},
     "output_type": "execute_result"
    }
   ],
   "source": [
    "exp_"
   ]
  }
 ],
 "metadata": {
  "kernelspec": {
   "display_name": "Python 3",
   "language": "python",
   "name": "python3"
  },
  "language_info": {
   "codemirror_mode": {
    "name": "ipython",
    "version": 3
   },
   "file_extension": ".py",
   "mimetype": "text/x-python",
   "name": "python",
   "nbconvert_exporter": "python",
   "pygments_lexer": "ipython3",
   "version": "3.7.5"
  }
 },
 "nbformat": 4,
 "nbformat_minor": 2
}
