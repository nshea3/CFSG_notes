{
 "cells": [
  {
   "cell_type": "code",
   "execution_count": 47,
   "metadata": {},
   "outputs": [],
   "source": [
    "from sympy import *\n",
    "\n",
    "\n",
    "from sympy import Function, S, oo, I, sin\n",
    "\n",
    "from sympy.stats import E\n",
    "\n",
    "\n",
    "init_printing()"
   ]
  },
  {
   "cell_type": "code",
   "execution_count": 2,
   "metadata": {},
   "outputs": [
    {
     "data": {
      "image/png": "[encoded data removed]",
      "text/latex": [
       "$$\\sum_{j=i}^{n} a{\\left (i \\right )}$$"
      ],
      "text/plain": [
       "  n       \n",
       " ___      \n",
       " ╲        \n",
       "  ╲   a(i)\n",
       "  ╱       \n",
       " ╱        \n",
       " ‾‾‾      \n",
       "j = i     "
      ]
     },
     "execution_count": 2,
     "metadata": {},
     "output_type": "execute_result"
    }
   ],
   "source": [
    "Z = symbols('Z')\n",
    "\n",
    "n,i,j,k,x = symbols('n i j k x', integer=True)\n",
    "a = Function('a')\n",
    "\n",
    "Sum(a(i), (j,i,n))"
   ]
  },
  {
   "cell_type": "code",
   "execution_count": 3,
   "metadata": {},
   "outputs": [
    {
     "data": {
      "image/png": "[encoded data removed]",
      "text/latex": [
       "$$\\sum_{\\substack{1 \\leq i \\leq 3\\\\1 \\leq j \\leq 10}} {x}_{i} {x}_{j}$$"
      ],
      "text/plain": [
       "  10    3            \n",
       " ___   ___           \n",
       " ╲     ╲             \n",
       "  ╲     ╲   x[i]⋅x[j]\n",
       "  ╱     ╱            \n",
       " ╱     ╱             \n",
       " ‾‾‾   ‾‾‾           \n",
       "j = 1 i = 1          "
      ]
     },
     "execution_count": 3,
     "metadata": {},
     "output_type": "execute_result"
    }
   ],
   "source": [
    "Sum(Sum(Indexed('x',i) * Indexed('x',j),(i,1,3)),(j,1,10))"
   ]
  },
  {
   "cell_type": "code",
   "execution_count": 4,
   "metadata": {},
   "outputs": [
    {
     "data": {
      "image/png": "[encoded data removed]",
      "text/latex": [
       "$$\\sum_{k=1}^{10} {Z^{2}}_{k}$$"
      ],
      "text/plain": [
       "  10        \n",
       " ___        \n",
       " ╲          \n",
       "  ╲   Z^2[k]\n",
       "  ╱         \n",
       " ╱          \n",
       " ‾‾‾        \n",
       "k = 1       "
      ]
     },
     "execution_count": 4,
     "metadata": {},
     "output_type": "execute_result"
    }
   ],
   "source": [
    "Sum(Indexed('Z^2',k), (k, 1, 10))"
   ]
  },
  {
   "cell_type": "code",
   "execution_count": 5,
   "metadata": {},
   "outputs": [
    {
     "data": {
      "image/png": "[encoded data removed]",
      "text/latex": [
       "$${Z^{2}}_{10} + {Z^{2}}_{1} + {Z^{2}}_{2} + {Z^{2}}_{3} + {Z^{2}}_{4} + {Z^{2}}_{5} + {Z^{2}}_{6} + {Z^{2}}_{7} + {Z^{2}}_{8} + {Z^{2}}_{9}$$"
      ],
      "text/plain": [
       "Z^2[10] + Z^2[1] + Z^2[2] + Z^2[3] + Z^2[4] + Z^2[5] + Z^2[6] + Z^2[7] + Z^2[8\n",
       "] + Z^2[9]"
      ]
     },
     "execution_count": 5,
     "metadata": {},
     "output_type": "execute_result"
    }
   ],
   "source": [
    "Sum(Indexed('Z^2',k), (k, 1, 10)).doit()"
   ]
  },
  {
   "cell_type": "markdown",
   "metadata": {},
   "source": [
    "### 1.3"
   ]
  },
  {
   "cell_type": "code",
   "execution_count": 6,
   "metadata": {},
   "outputs": [],
   "source": [
    "from sympy.stats import P, E, variance, Die, Normal"
   ]
  },
  {
   "cell_type": "code",
   "execution_count": 7,
   "metadata": {},
   "outputs": [
    {
     "data": {
      "image/png": "[encoded data removed]",
      "text/latex": [
       "$${Z^{2}}_{10} + {Z^{2}}_{1} + {Z^{2}}_{2} + {Z^{2}}_{3} + {Z^{2}}_{4} + {Z^{2}}_{5} + {Z^{2}}_{6} + {Z^{2}}_{7} + {Z^{2}}_{8} + {Z^{2}}_{9}$$"
      ],
      "text/plain": [
       "Z^2[10] + Z^2[1] + Z^2[2] + Z^2[3] + Z^2[4] + Z^2[5] + Z^2[6] + Z^2[7] + Z^2[8\n",
       "] + Z^2[9]"
      ]
     },
     "execution_count": 7,
     "metadata": {},
     "output_type": "execute_result"
    }
   ],
   "source": [
    "Sum(Indexed('Z^2',k), (k, 1, 10)).doit()"
   ]
  },
  {
   "cell_type": "code",
   "execution_count": 8,
   "metadata": {},
   "outputs": [
    {
     "data": {
      "image/png": "[encoded data removed]",
      "text/latex": [
       "$$\\frac{7}{2}$$"
      ],
      "text/plain": [
       "7/2"
      ]
     },
     "execution_count": 8,
     "metadata": {},
     "output_type": "execute_result"
    }
   ],
   "source": [
    "X, Y = Die('X', 6), Die('Y', 6)\n",
    "simplify(E(X))"
   ]
  },
  {
   "cell_type": "code",
   "execution_count": 9,
   "metadata": {},
   "outputs": [
    {
     "data": {
      "image/png": "[encoded data removed]",
      "text/latex": [
       "$$\\sum_{x=0}^{3} x f{\\left (x \\right )}$$"
      ],
      "text/plain": [
       "  3         \n",
       " ___        \n",
       " ╲          \n",
       "  ╲   x⋅f(x)\n",
       "  ╱         \n",
       " ╱          \n",
       " ‾‾‾        \n",
       "x = 0       "
      ]
     },
     "execution_count": 9,
     "metadata": {},
     "output_type": "execute_result"
    }
   ],
   "source": [
    "f = Function('f')(x)\n",
    "Sum(x * f, (x, 0, 3))"
   ]
  },
  {
   "cell_type": "code",
   "execution_count": 10,
   "metadata": {},
   "outputs": [
    {
     "ename": "KeyError",
     "evalue": "x",
     "output_type": "error",
     "traceback": [
      "\u001b[1;31m---------------------------------------------------------------------------\u001b[0m",
      "\u001b[1;31mKeyError\u001b[0m                                  Traceback (most recent call last)",
      "\u001b[1;32m<ipython-input-10-491649eda383>\u001b[0m in \u001b[0;36m<module>\u001b[1;34m\u001b[0m\n\u001b[0;32m      3\u001b[0m     \u001b[1;32mreturn\u001b[0m \u001b[0mmapping\u001b[0m\u001b[1;33m[\u001b[0m\u001b[0mx\u001b[0m\u001b[1;33m]\u001b[0m\u001b[1;33m\u001b[0m\u001b[1;33m\u001b[0m\u001b[0m\n\u001b[0;32m      4\u001b[0m \u001b[1;33m\u001b[0m\u001b[0m\n\u001b[1;32m----> 5\u001b[1;33m \u001b[0mSum\u001b[0m\u001b[1;33m(\u001b[0m\u001b[0mx\u001b[0m \u001b[1;33m*\u001b[0m \u001b[0mf\u001b[0m\u001b[1;33m(\u001b[0m\u001b[0mx\u001b[0m\u001b[1;33m)\u001b[0m\u001b[1;33m,\u001b[0m \u001b[1;33m(\u001b[0m\u001b[0mx\u001b[0m\u001b[1;33m,\u001b[0m \u001b[1;36m0\u001b[0m\u001b[1;33m,\u001b[0m \u001b[1;36m3\u001b[0m\u001b[1;33m)\u001b[0m\u001b[1;33m)\u001b[0m\u001b[1;33m\u001b[0m\u001b[1;33m\u001b[0m\u001b[0m\n\u001b[0m",
      "\u001b[1;32m<ipython-input-10-491649eda383>\u001b[0m in \u001b[0;36mf\u001b[1;34m(x)\u001b[0m\n\u001b[0;32m      1\u001b[0m \u001b[1;32mdef\u001b[0m \u001b[0mf\u001b[0m\u001b[1;33m(\u001b[0m\u001b[0mx\u001b[0m\u001b[1;33m)\u001b[0m\u001b[1;33m:\u001b[0m\u001b[1;33m\u001b[0m\u001b[1;33m\u001b[0m\u001b[0m\n\u001b[0;32m      2\u001b[0m     \u001b[0mmapping\u001b[0m \u001b[1;33m=\u001b[0m \u001b[1;33m{\u001b[0m\u001b[1;36m0\u001b[0m \u001b[1;33m:\u001b[0m \u001b[1;36m0.2\u001b[0m\u001b[1;33m,\u001b[0m \u001b[1;36m1\u001b[0m\u001b[1;33m:\u001b[0m\u001b[1;36m0.1\u001b[0m\u001b[1;33m,\u001b[0m \u001b[1;36m2\u001b[0m\u001b[1;33m:\u001b[0m\u001b[1;36m0.4\u001b[0m\u001b[1;33m,\u001b[0m \u001b[1;36m3\u001b[0m\u001b[1;33m:\u001b[0m\u001b[1;36m0.3\u001b[0m\u001b[1;33m}\u001b[0m\u001b[1;33m\u001b[0m\u001b[1;33m\u001b[0m\u001b[0m\n\u001b[1;32m----> 3\u001b[1;33m     \u001b[1;32mreturn\u001b[0m \u001b[0mmapping\u001b[0m\u001b[1;33m[\u001b[0m\u001b[0mx\u001b[0m\u001b[1;33m]\u001b[0m\u001b[1;33m\u001b[0m\u001b[1;33m\u001b[0m\u001b[0m\n\u001b[0m\u001b[0;32m      4\u001b[0m \u001b[1;33m\u001b[0m\u001b[0m\n\u001b[0;32m      5\u001b[0m \u001b[0mSum\u001b[0m\u001b[1;33m(\u001b[0m\u001b[0mx\u001b[0m \u001b[1;33m*\u001b[0m \u001b[0mf\u001b[0m\u001b[1;33m(\u001b[0m\u001b[0mx\u001b[0m\u001b[1;33m)\u001b[0m\u001b[1;33m,\u001b[0m \u001b[1;33m(\u001b[0m\u001b[0mx\u001b[0m\u001b[1;33m,\u001b[0m \u001b[1;36m0\u001b[0m\u001b[1;33m,\u001b[0m \u001b[1;36m3\u001b[0m\u001b[1;33m)\u001b[0m\u001b[1;33m)\u001b[0m\u001b[1;33m\u001b[0m\u001b[1;33m\u001b[0m\u001b[0m\n",
      "\u001b[1;31mKeyError\u001b[0m: x"
     ]
    }
   ],
   "source": [
    "def f(x):\n",
    "    mapping = {0 : 0.2, 1:0.1, 2:0.4, 3:0.3}\n",
    "    return mapping[x]\n",
    "\n",
    "Sum(x * f(x), (x, 0, 3))"
   ]
  },
  {
   "cell_type": "code",
   "execution_count": 11,
   "metadata": {},
   "outputs": [
    {
     "data": {
      "image/png": "[encoded data removed]",
      "text/latex": [
       "$$\\mathrm{NaN}$$"
      ],
      "text/plain": [
       "nan"
      ]
     },
     "execution_count": 11,
     "metadata": {},
     "output_type": "execute_result"
    }
   ],
   "source": [
    "import sympy\n",
    "\n",
    "f = sympy.Piecewise(\n",
    "    (0.2, x == 0),\n",
    "    (0.1, x == 1),\n",
    "    (0.4, x == 2),\n",
    "    (0.3, x == 3)\n",
    ")\n",
    "\n",
    "f.subs(x, 1.0)"
   ]
  },
  {
   "cell_type": "code",
   "execution_count": 12,
   "metadata": {},
   "outputs": [
    {
     "name": "stdout",
     "output_type": "stream",
     "text": [
      "0.333333333333334\n",
      "0\n"
     ]
    }
   ],
   "source": [
    "import sympy as sp\n",
    "\n",
    "x = sp.Symbol('x')\n",
    "\n",
    "phi_1 = sp.Piecewise(\n",
    "    (0, x < 1),\n",
    "    (0, x > 1.3),\n",
    "    ( (1.3-x)/0.3, True )\n",
    ")\n",
    "\n",
    "print(phi_1.subs(x,1.2)) # 0.333333333333334\n",
    "\n",
    "print(phi_1.subs(x,1.4)) # 0"
   ]
  },
  {
   "cell_type": "code",
   "execution_count": 13,
   "metadata": {},
   "outputs": [
    {
     "data": {
      "image/png": "[encoded data removed]",
      "text/latex": [
       "$$x + 3$$"
      ],
      "text/plain": [
       "x + 3"
      ]
     },
     "execution_count": 13,
     "metadata": {},
     "output_type": "execute_result"
    }
   ],
   "source": [
    "expr = Piecewise((x, Eq(i, 0)), (1, True))\n",
    "summation(expr, (i, 0, 3))"
   ]
  },
  {
   "cell_type": "code",
   "execution_count": 14,
   "metadata": {},
   "outputs": [
    {
     "data": {
      "image/png": "[encoded data removed]",
      "text/latex": [
       "$$\\sum_{i=0}^{3} i f{\\left (i \\right )}$$"
      ],
      "text/plain": [
       "  3         \n",
       " ___        \n",
       " ╲          \n",
       "  ╲   i⋅f(i)\n",
       "  ╱         \n",
       " ╱          \n",
       " ‾‾‾        \n",
       "i = 0       "
      ]
     },
     "execution_count": 14,
     "metadata": {},
     "output_type": "execute_result"
    }
   ],
   "source": [
    "class f(Function):\n",
    "    @classmethod\n",
    "    def eval(cls, i):\n",
    "        if i.is_Integer:\n",
    "            mapping = {0 : 0.2, 1 : 0.1, 2 : 0.4, 3 : 0.3}\n",
    "            return mapping.get(i, 0)\n",
    "\n",
    "Sum(i * f(i), (i, 0, 3))"
   ]
  },
  {
   "cell_type": "code",
   "execution_count": 15,
   "metadata": {},
   "outputs": [
    {
     "data": {
      "image/png": "[encoded data removed]",
      "text/latex": [
       "$$0.2 {i}_{0} + 0.1 {i}_{1} + 0.4 {i}_{2} + 0.3 {i}_{3}$$"
      ],
      "text/plain": [
       "0.2⋅i[0] + 0.1⋅i[1] + 0.4⋅i[2] + 0.3⋅i[3]"
      ]
     },
     "execution_count": 15,
     "metadata": {},
     "output_type": "execute_result"
    }
   ],
   "source": [
    "Sum(Indexed('i', i) * f(i), (i, 0, 3)).doit()"
   ]
  },
  {
   "cell_type": "code",
   "execution_count": 16,
   "metadata": {},
   "outputs": [
    {
     "data": {
      "image/png": "[encoded data removed]",
      "text/latex": [
       "$$1.8$$"
      ],
      "text/plain": [
       "1.80000000000000"
      ]
     },
     "execution_count": 16,
     "metadata": {},
     "output_type": "execute_result"
    }
   ],
   "source": [
    "Sum(i * f(i), (i, 0, 3)).doit()"
   ]
  },
  {
   "cell_type": "code",
   "execution_count": 17,
   "metadata": {},
   "outputs": [
    {
     "data": {
      "text/plain": [
       "True"
      ]
     },
     "execution_count": 17,
     "metadata": {},
     "output_type": "execute_result"
    }
   ],
   "source": [
    "from sympy.stats import P, E, variance, Die, Normal\n",
    "\n",
    "c = symbols('c', real=True)\n",
    "\n",
    "f = Function('f')(x)\n",
    "\n",
    "E(c*f) == c*E(f)"
   ]
  },
  {
   "cell_type": "code",
   "execution_count": 18,
   "metadata": {},
   "outputs": [
    {
     "data": {
      "image/png": "[encoded data removed]",
      "text/latex": [
       "$$4.4$$"
      ],
      "text/plain": [
       "4.40000000000000"
      ]
     },
     "execution_count": 18,
     "metadata": {},
     "output_type": "execute_result"
    }
   ],
   "source": [
    "class f(Function):\n",
    "    @classmethod\n",
    "    def eval(cls, i):\n",
    "        if i.is_Integer:\n",
    "            mapping = {0 : 0.2, 1 : 0.1, 2 : 0.4, 3 : 0.3}\n",
    "            return mapping.get(i, 0)\n",
    "\n",
    "Sum(i * i * f(i), (i, 0, 3)).doit()"
   ]
  },
  {
   "cell_type": "code",
   "execution_count": 19,
   "metadata": {},
   "outputs": [
    {
     "data": {
      "image/png": "[encoded data removed]",
      "text/latex": [
       "$$\\sum_{k=0}^{\\infty} \\lambda e^{- k}$$"
      ],
      "text/plain": [
       "  ∞        \n",
       " ___       \n",
       " ╲         \n",
       "  ╲      -k\n",
       "  ╱   λ⋅ℯ  \n",
       " ╱         \n",
       " ‾‾‾       \n",
       "k = 0      "
      ]
     },
     "execution_count": 19,
     "metadata": {},
     "output_type": "execute_result"
    }
   ],
   "source": [
    "k = symbols('k', integer=True)\n",
    "lam = sympy.S('lamda')\n",
    "\n",
    "Sum(exp(-k)*lam, (k, 0, oo))"
   ]
  },
  {
   "cell_type": "markdown",
   "metadata": {},
   "source": [
    "# Exercises"
   ]
  },
  {
   "cell_type": "code",
   "execution_count": 50,
   "metadata": {},
   "outputs": [],
   "source": [
    "x = Symbol('x')\n",
    "y = Symbol('y')\n",
    "m = Symbol('m')\n",
    "h = Symbol('h')\n",
    "Z = Function('Z')\n",
    "E = Function('E')\n",
    "C = Function('C')\n",
    "Cov = Function('Cov')"
   ]
  },
  {
   "cell_type": "code",
   "execution_count": 54,
   "metadata": {},
   "outputs": [
    {
     "data": {
      "image/png": "[encoded data removed]",
      "text/latex": [
       "$$\\operatorname{Cov}{\\left (Z{\\left (h + x \\right )},Z{\\left (x \\right )} \\right )} = E{\\left (\\left(- m + Z{\\left (x \\right )}\\right) \\left(- m + Z{\\left (h + x \\right )}\\right) \\right )}$$"
      ],
      "text/plain": [
       "Cov(Z(h + x), Z(x)) = E((-m + Z(x))⋅(-m + Z(h + x)))"
      ]
     },
     "execution_count": 54,
     "metadata": {},
     "output_type": "execute_result"
    }
   ],
   "source": [
    "Eq(Cov(Z(x + h), Z(x)), E((Z(x + h) - m)*(Z(x) - m)))"
   ]
  },
  {
   "cell_type": "code",
   "execution_count": 55,
   "metadata": {},
   "outputs": [
    {
     "data": {
      "image/png": "[encoded data removed]",
      "text/latex": [
       "$$\\operatorname{Cov}{\\left (Z{\\left (- h + x \\right )},Z{\\left (x \\right )} \\right )}$$"
      ],
      "text/plain": [
       "Cov(Z(-h + x), Z(x))"
      ]
     },
     "execution_count": 55,
     "metadata": {},
     "output_type": "execute_result"
    }
   ],
   "source": [
    "Cov(Z(x - h), Z(x))"
   ]
  },
  {
   "cell_type": "code",
   "execution_count": 52,
   "metadata": {},
   "outputs": [
    {
     "data": {
      "image/png": "[encoded data removed]",
      "text/latex": [
       "$$E{\\left (\\left(- m + Z{\\left (x \\right )}\\right) \\left(- m + Z{\\left (h + x \\right )}\\right) \\right )}$$"
      ],
      "text/plain": [
       "E((-m + Z(x))⋅(-m + Z(h + x)))"
      ]
     },
     "execution_count": 52,
     "metadata": {},
     "output_type": "execute_result"
    }
   ],
   "source": [
    "E((Z(x + h) - m)*(Z(x) - m))"
   ]
  },
  {
   "cell_type": "code",
   "execution_count": 51,
   "metadata": {},
   "outputs": [
    {
     "data": {
      "image/png": "[encoded data removed]",
      "text/latex": [
       "$$\\operatorname{Cov}{\\left (Z{\\left (y \\right )},Z{\\left (- h + y \\right )} \\right )}$$"
      ],
      "text/plain": [
       "Cov(Z(y), Z(-h + y))"
      ]
     },
     "execution_count": 51,
     "metadata": {},
     "output_type": "execute_result"
    }
   ],
   "source": [
    "Cov(Z(x + h), Z(x)).subs(x, y - h)"
   ]
  },
  {
   "cell_type": "code",
   "execution_count": 41,
   "metadata": {},
   "outputs": [
    {
     "data": {
      "image/png": "[encoded data removed]",
      "text/latex": [
       "$$\\operatorname{Cov}{\\left (Z{\\left (- 2 h + y \\right )},Z{\\left (- h + y \\right )} \\right )}$$"
      ],
      "text/plain": [
       "Cov(Z(-2⋅h + y), Z(-h + y))"
      ]
     },
     "execution_count": 41,
     "metadata": {},
     "output_type": "execute_result"
    }
   ],
   "source": [
    "Cov(Z(x - h), Z(x)).subs(x, y - h)"
   ]
  },
  {
   "cell_type": "code",
   "execution_count": 58,
   "metadata": {},
   "outputs": [
    {
     "data": {
      "text/plain": [
       "False"
      ]
     },
     "execution_count": 58,
     "metadata": {},
     "output_type": "execute_result"
    }
   ],
   "source": [
    "h, n,i,j,k,x = symbols('h n i j k x', real=True)\n",
    "(x - h)**2 == (h - x)**2"
   ]
  }
 ],
 "metadata": {
  "kernelspec": {
   "display_name": "Python 3",
   "language": "python",
   "name": "python3"
  },
  "language_info": {
   "codemirror_mode": {
    "name": "ipython",
    "version": 3
   },
   "file_extension": ".py",
   "mimetype": "text/x-python",
   "name": "python",
   "nbconvert_exporter": "python",
   "pygments_lexer": "ipython3",
   "version": "3.7.3"
  }
 },
 "nbformat": 4,
 "nbformat_minor": 2
}
